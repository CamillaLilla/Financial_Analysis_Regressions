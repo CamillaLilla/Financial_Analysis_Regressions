{
 "cells": [
  {
   "cell_type": "markdown",
   "id": "82590560",
   "metadata": {},
   "source": [
    "# Indices Analysis"
   ]
  },
  {
   "cell_type": "markdown",
   "id": "0d7ceade",
   "metadata": {},
   "source": [
    "Getting Data:"
   ]
  },
  {
   "cell_type": "code",
   "execution_count": 11,
   "id": "1dae631c",
   "metadata": {},
   "outputs": [],
   "source": [
    "import yahoo_fin.stock_info as si"
   ]
  },
  {
   "cell_type": "code",
   "execution_count": 12,
   "id": "e53b6b61",
   "metadata": {},
   "outputs": [
    {
     "data": {
      "text/html": [
       "<div>\n",
       "<style scoped>\n",
       "    .dataframe tbody tr th:only-of-type {\n",
       "        vertical-align: middle;\n",
       "    }\n",
       "\n",
       "    .dataframe tbody tr th {\n",
       "        vertical-align: top;\n",
       "    }\n",
       "\n",
       "    .dataframe thead th {\n",
       "        text-align: right;\n",
       "    }\n",
       "</style>\n",
       "<table border=\"1\" class=\"dataframe\">\n",
       "  <thead>\n",
       "    <tr style=\"text-align: right;\">\n",
       "      <th></th>\n",
       "      <th>attribute</th>\n",
       "      <th>value</th>\n",
       "    </tr>\n",
       "  </thead>\n",
       "  <tbody>\n",
       "    <tr>\n",
       "      <th>0</th>\n",
       "      <td>1y Target Est</td>\n",
       "      <td>171.21</td>\n",
       "    </tr>\n",
       "    <tr>\n",
       "      <th>1</th>\n",
       "      <td>52 Week Range</td>\n",
       "      <td>124.17 - 179.61</td>\n",
       "    </tr>\n",
       "    <tr>\n",
       "      <th>2</th>\n",
       "      <td>Ask</td>\n",
       "      <td>142.13 x 1200</td>\n",
       "    </tr>\n",
       "    <tr>\n",
       "      <th>3</th>\n",
       "      <td>Avg. Volume</td>\n",
       "      <td>78291163.0</td>\n",
       "    </tr>\n",
       "    <tr>\n",
       "      <th>4</th>\n",
       "      <td>Beta (5Y Monthly)</td>\n",
       "      <td>1.27</td>\n",
       "    </tr>\n",
       "    <tr>\n",
       "      <th>5</th>\n",
       "      <td>Bid</td>\n",
       "      <td>142.12 x 800</td>\n",
       "    </tr>\n",
       "    <tr>\n",
       "      <th>6</th>\n",
       "      <td>Day's Range</td>\n",
       "      <td>141.72 - 143.99</td>\n",
       "    </tr>\n",
       "    <tr>\n",
       "      <th>7</th>\n",
       "      <td>EPS (TTM)</td>\n",
       "      <td>6.11</td>\n",
       "    </tr>\n",
       "    <tr>\n",
       "      <th>8</th>\n",
       "      <td>Earnings Date</td>\n",
       "      <td>Feb 02, 2023</td>\n",
       "    </tr>\n",
       "    <tr>\n",
       "      <th>9</th>\n",
       "      <td>Ex-Dividend Date</td>\n",
       "      <td>Nov 04, 2022</td>\n",
       "    </tr>\n",
       "    <tr>\n",
       "      <th>10</th>\n",
       "      <td>Forward Dividend &amp; Yield</td>\n",
       "      <td>0.92 (0.64%)</td>\n",
       "    </tr>\n",
       "    <tr>\n",
       "      <th>11</th>\n",
       "      <td>Market Cap</td>\n",
       "      <td>2.248T</td>\n",
       "    </tr>\n",
       "    <tr>\n",
       "      <th>12</th>\n",
       "      <td>Open</td>\n",
       "      <td>143.97</td>\n",
       "    </tr>\n",
       "    <tr>\n",
       "      <th>13</th>\n",
       "      <td>PE Ratio (TTM)</td>\n",
       "      <td>23.23</td>\n",
       "    </tr>\n",
       "    <tr>\n",
       "      <th>14</th>\n",
       "      <td>Previous Close</td>\n",
       "      <td>144.29</td>\n",
       "    </tr>\n",
       "    <tr>\n",
       "      <th>15</th>\n",
       "      <td>Quote Price</td>\n",
       "      <td>141.951294</td>\n",
       "    </tr>\n",
       "    <tr>\n",
       "      <th>16</th>\n",
       "      <td>Volume</td>\n",
       "      <td>30414129.0</td>\n",
       "    </tr>\n",
       "  </tbody>\n",
       "</table>\n",
       "</div>"
      ],
      "text/plain": [
       "                   attribute            value\n",
       "0              1y Target Est           171.21\n",
       "1              52 Week Range  124.17 - 179.61\n",
       "2                        Ask    142.13 x 1200\n",
       "3                Avg. Volume       78291163.0\n",
       "4          Beta (5Y Monthly)             1.27\n",
       "5                        Bid     142.12 x 800\n",
       "6                Day's Range  141.72 - 143.99\n",
       "7                  EPS (TTM)             6.11\n",
       "8              Earnings Date     Feb 02, 2023\n",
       "9           Ex-Dividend Date     Nov 04, 2022\n",
       "10  Forward Dividend & Yield     0.92 (0.64%)\n",
       "11                Market Cap           2.248T\n",
       "12                      Open           143.97\n",
       "13            PE Ratio (TTM)            23.23\n",
       "14            Previous Close           144.29\n",
       "15               Quote Price       141.951294\n",
       "16                    Volume       30414129.0"
      ]
     },
     "execution_count": 12,
     "metadata": {},
     "output_type": "execute_result"
    }
   ],
   "source": [
    "quote_table = si.get_quote_table(\"aapl\", dict_result=False)\n",
    "quote_table"
   ]
  },
  {
   "cell_type": "markdown",
   "id": "5f8b14a9",
   "metadata": {},
   "source": [
    "Index Weight (%): "
   ]
  },
  {
   "cell_type": "code",
   "execution_count": 13,
   "id": "a8b1d38f",
   "metadata": {},
   "outputs": [
    {
     "data": {
      "text/plain": [
       "'2.25T'"
      ]
     },
     "execution_count": 13,
     "metadata": {},
     "output_type": "execute_result"
    }
   ],
   "source": [
    "si.get_quote_table(\"aapl\")[\"Market Cap\"]"
   ]
  },
  {
   "cell_type": "code",
   "execution_count": null,
   "id": "648f6bd8",
   "metadata": {},
   "outputs": [],
   "source": []
  }
 ],
 "metadata": {
  "kernelspec": {
   "display_name": "Python 3 (ipykernel)",
   "language": "python",
   "name": "python3"
  },
  "language_info": {
   "codemirror_mode": {
    "name": "ipython",
    "version": 3
   },
   "file_extension": ".py",
   "mimetype": "text/x-python",
   "name": "python",
   "nbconvert_exporter": "python",
   "pygments_lexer": "ipython3",
   "version": "3.9.7"
  }
 },
 "nbformat": 4,
 "nbformat_minor": 5
}
